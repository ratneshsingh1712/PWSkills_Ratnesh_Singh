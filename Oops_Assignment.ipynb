{
 "cells": [
  {
   "cell_type": "code",
   "execution_count": null,
   "id": "acf41041-4453-4484-a273-193b98e35eff",
   "metadata": {},
   "outputs": [],
   "source": [
    "#Q1. Explain Class and Object with respect to Object-Oriented Programming. Give a suitable example."
   ]
  },
  {
   "cell_type": "code",
   "execution_count": 1,
   "id": "08a8fe4d-c97f-4894-a72a-47ed1004d792",
   "metadata": {},
   "outputs": [],
   "source": [
    "#Answer1.\n",
    "#Classes are user-defined data types that act as the blueprint for individual objects, attributes and methods.\n",
    "#Objects are instances of a class created with specifically defined data. \n",
    "#Objects can correspond to real-world objects or an abstract entity. When class is defined initially, \n",
    "#the description is the only object that is defined.\n",
    "#Methods are functions that are defined inside a class that describe the behaviors of an object. \n",
    "#Each method contained in class definitions starts with a reference to an instance object. \n",
    "#Additionally, the subroutines contained in an object are called instance methods.\n",
    "#Programmers use methods for reusability or keeping functionality encapsulated inside one object at a time.\n",
    "#Attributes are defined in the class template and represent the state of an object.\n",
    "#Objects will have data stored in the attributes field. Class attributes belong to the class itself."
   ]
  },
  {
   "cell_type": "code",
   "execution_count": 2,
   "id": "225f9b3a-8316-4ca4-b96a-e336327750fd",
   "metadata": {},
   "outputs": [
    {
     "name": "stdout",
     "output_type": "stream",
     "text": [
      "Toyota\n",
      "Red\n",
      "The car has started.\n",
      "The car's speed is now 30 km/h.\n",
      "The car has stopped.\n"
     ]
    }
   ],
   "source": [
    "# Example of a Car class\n",
    "class Car:\n",
    "    def __init__(self, brand, model, color):\n",
    "        self.brand = brand\n",
    "        self.model = model\n",
    "        self.color = color\n",
    "        self.speed = 0\n",
    "    \n",
    "    def start(self):\n",
    "        print(\"The car has started.\")\n",
    "    \n",
    "    def accelerate(self, increment):\n",
    "        self.speed += increment\n",
    "        print(f\"The car's speed is now {self.speed} km/h.\")\n",
    "    \n",
    "    def brake(self):\n",
    "        self.speed = 0\n",
    "        print(\"The car has stopped.\")\n",
    "\n",
    "# Creating objects/instances of the Car class\n",
    "car1 = Car(\"Toyota\", \"Camry\", \"Blue\")\n",
    "car2 = Car(\"Honda\", \"Civic\", \"Red\")\n",
    "\n",
    "# Accessing attributes and invoking methods\n",
    "print(car1.brand)  # Output: Toyota\n",
    "print(car2.color)  # Output: Red\n",
    "\n",
    "car1.start()  # Output: The car has started.\n",
    "car2.accelerate(30)  # Output: The car's speed is now 30 km/h.\n",
    "car1.brake()  # Output: The car has stopped.\n"
   ]
  },
  {
   "cell_type": "code",
   "execution_count": null,
   "id": "1f47f8c9-ee32-4611-9828-68fe213a4062",
   "metadata": {},
   "outputs": [],
   "source": [
    "#Q2. Name the four pillars of OOPs."
   ]
  },
  {
   "cell_type": "code",
   "execution_count": 3,
   "id": "ff74321b-da69-4d1a-a22f-415147766e89",
   "metadata": {},
   "outputs": [],
   "source": [
    "#Encapsulation : This principle states that all important information is contained inside an object and only \n",
    "#select information is exposed. The implementation and state of each object are privately held inside a defined class. \n",
    "#Other objects do not have access to this class or the authority to make changes. \n",
    "#They are only able to call a list of public functions or methods. \n",
    "#This characteristic of data hiding provides greater program security and avoids unintended data corruption.\n",
    "#Abstraction : Objects only reveal internal mechanisms that are relevant for the use of other objects, \n",
    "#hiding any unnecessary implementation code. The derived class can have its functionality extended. \n",
    "#This concept can help developers more easily make additional changes or additions over time.\n",
    "#Inheritance : Classes can reuse code from other classes. Relationships and subclasses between objects can be assigned, \n",
    "#enabling developers to reuse common logic while still maintaining a unique hierarchy. \n",
    "#This property of OOP forces a more thorough data analysis, reduces development time and ensures a higher level of accuracy.\n",
    "#Polymorphism: Objects are designed to share behaviors and they can take on more than one form. \n",
    "#The program will determine which meaning or usage is necessary for each execution of that object from a parent class, \n",
    "#reducing the need to duplicate code. A child class is then created, which extends the functionality of the parent class. \n",
    "#Polymorphism allows different types of objects to pass through the same interface.\n"
   ]
  },
  {
   "cell_type": "code",
   "execution_count": null,
   "id": "d63c1d82-51b4-4500-8105-203b71cb1e93",
   "metadata": {},
   "outputs": [],
   "source": [
    "#Q3. Explain why the __init__() function is used. Give a suitable example."
   ]
  },
  {
   "cell_type": "code",
   "execution_count": 4,
   "id": "049c7a02-5c80-4c08-ab50-001b67f7bde5",
   "metadata": {},
   "outputs": [],
   "source": [
    "#The __init__() function is a special method in Python classes that is automatically called when an object is \n",
    "#created from a class. It is used to initialize the attributes or properties of an object by assigning initial \n",
    "#values to them. The __init__() function allows us to define the state of an object when it is instantiated.\n",
    "\n",
    "#Here's an example to illustrate the usage of the __init__() function:"
   ]
  },
  {
   "cell_type": "code",
   "execution_count": 5,
   "id": "f8f859fc-f1c6-4a0b-a553-90f08cf688ce",
   "metadata": {},
   "outputs": [
    {
     "name": "stdout",
     "output_type": "stream",
     "text": [
      "Hi, my name is Alice and I'm 25 years old.\n",
      "Hi, my name is Bob and I'm 30 years old.\n"
     ]
    }
   ],
   "source": [
    "class Person:\n",
    "    def __init__(self, name, age):\n",
    "        self.name = name\n",
    "        self.age = age\n",
    "\n",
    "    def introduce(self):\n",
    "        print(f\"Hi, my name is {self.name} and I'm {self.age} years old.\")\n",
    "\n",
    "# Creating objects/instances of the Person class\n",
    "person1 = Person(\"Alice\", 25)\n",
    "person2 = Person(\"Bob\", 30)\n",
    "\n",
    "# Accessing attributes and invoking methods\n",
    "person1.introduce()  # Output: Hi, my name is Alice and I'm 25 years old.\n",
    "person2.introduce()  # Output: Hi, my name is Bob and I'm 30 years old.\n"
   ]
  },
  {
   "cell_type": "code",
   "execution_count": 6,
   "id": "5d0728f8-5e3a-40e9-8f1c-a9bceb38f737",
   "metadata": {},
   "outputs": [],
   "source": [
    "#Q4. Why self is used in OOPs?"
   ]
  },
  {
   "cell_type": "code",
   "execution_count": 3,
   "id": "c61c715d-047e-4f0c-a65b-ead2a974ffe1",
   "metadata": {},
   "outputs": [
    {
     "name": "stdout",
     "output_type": "stream",
     "text": [
      "Buddy\n",
      "Max says: Woof!\n"
     ]
    }
   ],
   "source": [
    "#Answer4. \n",
    "#In Object-Oriented Programming (OOP), the concept of \"self\" (or \"this\" in some programming languages) refers to a special variable that represents the instance of the class that is currently being worked on or accessed. \n",
    "#It is a reference to the object itself.\n",
    "\n",
    "#Self is used in OOP for several important reasons:\n",
    "\n",
    "#1. **Accessing instance variables**: Instance variables are unique to each instance of a class. \n",
    "#\"Self\" allows you to access and modify these instance variables within the methods of the class. \n",
    "#For example, if you have a class representing a car, you might have an instance variable \"color,\" \n",
    "#and you can access it using \"self.color.\"\n",
    "\n",
    "#2. **Calling other methods**: \"Self\" is necessary to call other methods within the same class. \n",
    "#When a method is called, it needs access to the instance variables and other methods, which can be done using \"self.\"\n",
    "\n",
    "#3. **Creating instance-specific behavior**: The value of \"self\" changes depending on the instance calling the method.\n",
    "#This allows the same method to behave differently based on the data stored in the specific instance. \n",
    "#For instance, a \"Person\" class may have a method \"introduce\" that prints a personalized introduction based on the name \n",
    "#stored in the instance.\n",
    "\n",
    "#4. **Differentiating between instance and local variables**: \n",
    "#Using \"self\" helps to distinguish between instance variables (specific to an object) and \n",
    "#local variables (temporary variables within a method). It makes the code more explicit and avoids naming conflicts.\n",
    "\n",
    "#5. **Passing instance as an argument**: When a method in a class calls another method that expects the instance \n",
    "#itself as an argument, \"self\" is used to pass the current instance to that method. \n",
    "#This allows methods to work with the relevant data.\n",
    "\n",
    "#Here's a simple Python example to illustrate the use of \"self\":\n",
    "\n",
    "\n",
    "class Dog:\n",
    "    def __init__(self, name, age):\n",
    "        self.name = name\n",
    "        self.age = age\n",
    "\n",
    "    def bark(self):\n",
    "        print(f\"{self.name} says: Woof!\")\n",
    "\n",
    "# Creating instances of the Dog class\n",
    "dog1 = Dog(\"Buddy\", 3)\n",
    "dog2 = Dog(\"Max\", 5)\n",
    "\n",
    "# Accessing instance variables and calling methods using \"self\"\n",
    "print(dog1.name)  # Output: Buddy\n",
    "dog2.bark()       # Output: Max says: Woof!\n",
    "\n",
    "\n",
    "#In summary, \"self\" is a fundamental concept in OOP that allows classes to operate on their own data and define\n",
    "#behavior specific to individual instances. It enables encapsulation and helps build modular and maintainable code."
   ]
  },
  {
   "cell_type": "code",
   "execution_count": 4,
   "id": "acc6d2dd-dfbb-4b02-8759-c2ebfa57f80d",
   "metadata": {},
   "outputs": [],
   "source": [
    "#Q5. What is inheritance? Give an example for each type of inheritance."
   ]
  },
  {
   "cell_type": "code",
   "execution_count": 11,
   "id": "2ecd9eaa-3b06-410b-bee5-be09503bcf9b",
   "metadata": {},
   "outputs": [
    {
     "ename": "IndentationError",
     "evalue": "unindent does not match any outer indentation level (<tokenize>, line 17)",
     "output_type": "error",
     "traceback": [
      "\u001b[0;36m  File \u001b[0;32m<tokenize>:17\u001b[0;36m\u001b[0m\n\u001b[0;31m    class Dog(Animal):\u001b[0m\n\u001b[0m    ^\u001b[0m\n\u001b[0;31mIndentationError\u001b[0m\u001b[0;31m:\u001b[0m unindent does not match any outer indentation level\n"
     ]
    }
   ],
   "source": [
    "#Ans. Inheritance is a fundamental concept in Object-Oriented Programming (OOP) that allows a class (subclass or derived class) to inherit properties \n",
    "#and behaviors from another class (superclass or base class). The subclass can extend and specialize the \n",
    "#functionalities of the superclass while reusing its common attributes and methods. \n",
    "#This promotes code reuse, modularity, and helps in building a hierarchical structure of classes.\n",
    "\n",
    "#There are different types of inheritance in OOP:\n",
    "\n",
    "#1. **Single Inheritance**:\n",
    "   #Single inheritance involves one class inheriting from another class. A subclass can only inherit from one superclass.\n",
    "\n",
    "   #Example:\n",
    "   \n",
    "    class Animal:\n",
    "       def speak(self):\n",
    "           print(\"Animal speaks\")\n",
    "\n",
    "   class Dog(Animal):\n",
    "       def bark(self):\n",
    "           print(\"Dog barks\")\n",
    "\n",
    "   # Dog inherits from Animal, so it can access the speak() method\n",
    "   dog = Dog()\n",
    "   dog.speak()  # Output: Animal speaks\n",
    "   dog.bark()   # Output: Dog barks\n",
    "   \n",
    "\n",
    "\n",
    "  # Multiple inheritance allows a subclass to inherit from multiple superclasses. \n",
    "    #This means a class can have more than one direct superclass.\n",
    "\n",
    "   \n",
    "   class Flyable:\n",
    "       def fly(self):\n",
    "           print(\"Can fly\")\n",
    "\n",
    "   class Swimmable:\n",
    "       def swim(self):\n",
    "           print(\"Can swim\")\n",
    "\n",
    "   class Amphibian(Flyable, Swimmable):\n",
    "       pass\n",
    "\n",
    "   frog = Amphibian()\n",
    "   frog.fly()  # Output: Can fly\n",
    "   frog.swim() # Output: Can swim\n",
    "   ```\n",
    "\n",
    "#3. **Multilevel Inheritance**:\n",
    "  # In multilevel inheritance, a subclass inherits from another class, which in turn inherits from another class. \n",
    "    #It forms a chain of inheritance.\n",
    "\n",
    " #  Example:\n",
    "  \n",
    "   class Animal:\n",
    "       def speak(self):\n",
    "           print(\"Animal speaks\")\n",
    "\n",
    "   class Dog(Animal):\n",
    "       def bark(self):\n",
    "           print(\"Dog barks\")\n",
    "\n",
    "   class Labrador(Dog):\n",
    "       def fetch(self):\n",
    "           print(\"Labrador fetches\")\n",
    "\n",
    "   lab = Labrador()\n",
    "   lab.speak()  # Output: Animal speaks\n",
    "   lab.bark()   # Output: Dog barks\n",
    "   lab.fetch()  # Output: Labrador fetches\n",
    "\n",
    "#4. **Hierarchical Inheritance**:\n",
    "  # Hierarchical inheritance involves multiple subclasses inheriting from the same superclass.\n",
    "\n",
    "  \n",
    "   class Animal:\n",
    "       def speak(self):\n",
    "           print(\"Animal speaks\")\n",
    "\n",
    "class Dog(Animal):\n",
    "       def bark(self):\n",
    "           print(\"Dog barks\")\n",
    "\n",
    "    class Cat(Animal):\n",
    "       def meow(self):\n",
    "           print(\"Cat meows\")\n",
    "\n",
    "   dog = Dog()\n",
    "   cat = Cat()\n",
    "\n",
    "   dog.speak()  # Output: Animal speaks\n",
    "   dog.bark()   # Output: Dog barks\n",
    "\n",
    "   cat.speak()  # Output: Animal speaks\n",
    "   cat.meow()   # Output: Cat meows\n",
    "   \n",
    "\n",
    "\n",
    "  # Hybrid inheritance is a combination of two or more types of inheritance, such as single, multiple, multilevel, or \n",
    "    #hierarchical inheritance.\n",
    "\n",
    "   #python\n",
    "   class Animal:\n",
    "       def speak(self):\n",
    "           print(\"Animal speaks\")\n",
    "\n",
    "    class Mammal(Animal):\n",
    "        def feed_milk(self):\n",
    "           print(\"Mammal feeds milk\")\n",
    "\n",
    "    class CanFly:\n",
    "       def fly(self):\n",
    "           print(\"Can fly\")\n",
    "\n",
    "    class Bat(Mammal, CanFly):\n",
    "       pass\n",
    "\n",
    "   bat = Bat()\n",
    "   bat.speak()       # Output: Animal speaks\n",
    "   bat.feed_milk()   # Output: Mammal feeds milk\n",
    "   bat.fly()         # Output: Can fly\n",
    "\n",
    "\n",
    "#Inheritance is a powerful mechanism in OOP that allows classes to build upon the existing functionality of other classes, \n",
    "#promoting code reusability and making the code more organized and maintainable."
   ]
  },
  {
   "cell_type": "code",
   "execution_count": null,
   "id": "3f3836ef-a9ed-4a92-a3bd-05449f39f5d5",
   "metadata": {},
   "outputs": [],
   "source": []
  }
 ],
 "metadata": {
  "kernelspec": {
   "display_name": "Python 3 (ipykernel)",
   "language": "python",
   "name": "python3"
  },
  "language_info": {
   "codemirror_mode": {
    "name": "ipython",
    "version": 3
   },
   "file_extension": ".py",
   "mimetype": "text/x-python",
   "name": "python",
   "nbconvert_exporter": "python",
   "pygments_lexer": "ipython3",
   "version": "3.10.8"
  }
 },
 "nbformat": 4,
 "nbformat_minor": 5
}
