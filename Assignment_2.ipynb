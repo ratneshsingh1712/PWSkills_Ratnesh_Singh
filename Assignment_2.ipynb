{
 "cells": [
  {
   "cell_type": "code",
   "execution_count": 1,
   "id": "0d448d5e-648f-4cd3-b989-fb90d9dc8144",
   "metadata": {},
   "outputs": [],
   "source": [
    "#Q1. Which keyword is used to create a function? Create a function to return a list of odd numbers in the range of 1 to 25."
   ]
  },
  {
   "cell_type": "code",
   "execution_count": 2,
   "id": "ae871940-ca34-42d9-ad82-9b0161f67dab",
   "metadata": {},
   "outputs": [
    {
     "name": "stdout",
     "output_type": "stream",
     "text": [
      "[1, 3, 5, 7, 9, 11, 13, 15, 17, 19, 21, 23, 25]\n"
     ]
    }
   ],
   "source": [
    "#Ans1. In Python, the keyword used to create a function is \"def\". \n",
    "#Here's an example of how you can create a function to return a list of odd numbers in the range of 1 to 25:\n",
    "    #In this example, the function is named \"get_odd_numbers\". It initializes an empty list called \"odd_numbers\". \n",
    "    #It then iterates through the range of numbers from 1 to 25 using a for loop. \n",
    "    #For each number, it checks if it is odd by using the modulo operator (%). \n",
    "    #If the number is odd, it is appended to the \"odd_numbers\" list. F\n",
    "    #inally, the function returns the list of odd numbers.\n",
    "    #When you call the function and store the result in the \"result\" variable, you can print it to see the list of odd numbers.\n",
    "\n",
    "def get_odd_numbers():\n",
    "    odd_numbers = []\n",
    "    for num in range(1, 26):\n",
    "        if num % 2 != 0:\n",
    "            odd_numbers.append(num)\n",
    "    return odd_numbers\n",
    "\n",
    "# Call the function\n",
    "result = get_odd_numbers()\n",
    "print(result)\n",
    "\n",
    "    \n",
    "    \n",
    "\n",
    "\n",
    "\n",
    "\n"
   ]
  },
  {
   "cell_type": "code",
   "execution_count": 3,
   "id": "ab896c89-9555-4c2b-8d56-6db040949974",
   "metadata": {},
   "outputs": [],
   "source": [
    "#Q2.Why *args and **kwargs is used in some functions? Create a function each for *args and **kwargs to demonstrate their use."
   ]
  },
  {
   "cell_type": "code",
   "execution_count": 4,
   "id": "c77c6ee6-b084-4a19-94f9-e7876f54a09c",
   "metadata": {},
   "outputs": [],
   "source": [
    "#Ans2.In Python, *args and **kwargs are special syntax used in function definitions to allow \n",
    "#the passing of a variable number of arguments to a function. \n",
    "#The *args syntax allows a function to accept a variable number of non-keyword arguments. \n",
    "#It collects these arguments into a tuple within the function. \n",
    "#This is useful when you don't know how many arguments will be passed to the function. \n",
    "#Here's an example of a function that demonstrates the use of *args:"
   ]
  },
  {
   "cell_type": "code",
   "execution_count": 5,
   "id": "4b62ddbb-2dbb-4dbf-af75-d5111f977b60",
   "metadata": {},
   "outputs": [
    {
     "name": "stdout",
     "output_type": "stream",
     "text": [
      "15\n"
     ]
    }
   ],
   "source": [
    "def sum_numbers(*args):\n",
    "    total = 0\n",
    "    for num in args:\n",
    "        total += num \n",
    "    return total\n",
    "\n",
    "result = sum_numbers(1, 2, 3, 4, 5)\n",
    "print(result)  # Output: 15\n"
   ]
  },
  {
   "cell_type": "code",
   "execution_count": 6,
   "id": "7a6aa622-c345-40da-a930-7a2f9afe4c6e",
   "metadata": {},
   "outputs": [],
   "source": [
    "#In this example, the sum_numbers function accepts any number of arguments, and the *args parameter collects them into a tuple named args. The function then iterates over the args tuple and calculates the sum of all the numbers. \n",
    "#On the other hand, **kwargs stands for keyword arguments and allows a function to accept a variable number of keyword arguments. It collects these arguments into a dictionary within the function. This is useful when you want to pass named arguments to a function without explicitly defining them.\n",
    "\n",
    "#Here's an example of a function that demonstrates the use of **kwargs:"
   ]
  },
  {
   "cell_type": "code",
   "execution_count": 7,
   "id": "8316cee6-bd92-412d-8aa8-e1f3f336b999",
   "metadata": {},
   "outputs": [
    {
     "name": "stdout",
     "output_type": "stream",
     "text": [
      "name: John\n",
      "age: 25\n",
      "city: New York\n"
     ]
    }
   ],
   "source": [
    "def print_details(**kwargs):\n",
    "    for key, value in kwargs.items():\n",
    "        print(key + \": \" + value)\n",
    "\n",
    "print_details(name=\"John\", age=\"25\", city=\"New York\")\n"
   ]
  },
  {
   "cell_type": "code",
   "execution_count": 8,
   "id": "84213e6f-c83e-488d-88f3-8e03653bfe85",
   "metadata": {},
   "outputs": [],
   "source": [
    "#By using **kwargs, you can pass any number of keyword arguments to the function without explicitly defining them as parameters.\n",
    "#These are just basic examples to demonstrate the usage of *args and **kwargs. \n",
    "#In real-world scenarios, their usage can be more complex and tailored to specific requirements."
   ]
  },
  {
   "cell_type": "code",
   "execution_count": 9,
   "id": "86aa311b-eb88-450c-bddd-5cbe37f63d91",
   "metadata": {},
   "outputs": [],
   "source": [
    "#Q3. What is an iterator in python? Name the method used to initialise the iterator object and the method\n",
    "#used for iteration. Use these methods to print the first five elements of the given list [2, 4, 6, 8, 10, 12, 14,16, 18, 20]."
   ]
  },
  {
   "cell_type": "code",
   "execution_count": 10,
   "id": "16665d09-331f-48a5-ad77-5073ddf7045d",
   "metadata": {},
   "outputs": [
    {
     "name": "stdout",
     "output_type": "stream",
     "text": [
      "2\n",
      "4\n",
      "6\n",
      "8\n",
      "10\n"
     ]
    }
   ],
   "source": [
    "#Ans3.In Python, an iterator is an object that implements the iterator protocol, which consists of the __iter__() and __next__() methods. \n",
    "#Iterators are used to iterate over a collection of elements one at a time, enabling the use of a for loop or other iteration constructs.\n",
    "#To initialize an iterator object, you can use the iter() function, which calls the __iter__() method on the object. \n",
    "#The __iter__() method returns the iterator object itself.\n",
    "#To iterate over the elements using an iterator, you can use the next() function, which calls the __next__() method on the iterator object. \n",
    "#The __next__() method returns the next element in the collection.\n",
    "#Now let's use these methods to print the first five elements of the given list [2, 4, 6, 8, 10, 12, 14, 16, 18, 20]:\n",
    "\n",
    "\n",
    "numbers = [2, 4, 6, 8, 10, 12, 14, 16, 18, 20]\n",
    "iterator = iter(numbers)\n",
    "\n",
    "for _ in range(5):\n",
    "    element = next(iterator)\n",
    "    print(element)\n"
   ]
  },
  {
   "cell_type": "code",
   "execution_count": 11,
   "id": "487ea62b-86da-422b-b10c-bd5521d63211",
   "metadata": {},
   "outputs": [],
   "source": [
    "#In this example, we first use the iter() function to initialize an iterator object iterator for the numbers list. \n",
    "#Then, we use a for loop and the next() function to iterate over the iterator. \n",
    "#Each call to next(iterator) returns the next element from the list, which we print in the loop. \n",
    "#We repeat this process five times to print the first five elements of the list."
   ]
  },
  {
   "cell_type": "code",
   "execution_count": 12,
   "id": "07590d93-6b90-4510-bf18-21f101126ce3",
   "metadata": {},
   "outputs": [],
   "source": [
    "#Q4What is a generator function in python? Why yield keyword is used? Give an example of a generator\n",
    "#function."
   ]
  },
  {
   "cell_type": "code",
   "execution_count": 1,
   "id": "efd64e82-49fd-4d05-9b0f-cda815570a3a",
   "metadata": {},
   "outputs": [],
   "source": [
    "#Ans4.n Python, a generator function is a special type of function that generates a sequence of values using the yield keyword instead of return. \n",
    "#It allows you to create an iterator, which can be used to iterate over a potentially infinite sequence of values or generate values on-the-fly without storing them in memory.\n",
    "#When a generator function is called, it returns an iterator object without actually executing the function's body. The iterator can then be used to retrieve the generated values one at a time using the next() function or in a for loop.\n",
    "#The yield keyword is used in a generator function to specify the points at which the function will \"yield\" a value. When the yield statement is encountered, the function's state is frozen, and the value is returned to the caller. The next time the function is called, it resumes execution from where it left off, allowing it to produce the next value in the sequence.\n",
    "#Here's an example of a generator function that generates a sequence of even numbers:"
   ]
  },
  {
   "cell_type": "code",
   "execution_count": 2,
   "id": "62b6a486-a83d-497d-b982-284883378449",
   "metadata": {},
   "outputs": [
    {
     "name": "stdout",
     "output_type": "stream",
     "text": [
      "0\n",
      "2\n",
      "4\n",
      "0\n",
      "2\n",
      "4\n"
     ]
    }
   ],
   "source": [
    "def even_numbers(n):\n",
    "    i = 0\n",
    "    while i < n:\n",
    "        yield i\n",
    "        i += 2\n",
    "\n",
    "# Using the generator function\n",
    "even_gen = even_numbers(10)  # Create an iterator\n",
    "print(next(even_gen))  # Output: 0\n",
    "print(next(even_gen))  # Output: 2\n",
    "print(next(even_gen))  # Output: 4\n",
    "\n",
    "# Using a for loop to iterate over the generator\n",
    "for num in even_numbers(6):\n",
    "    print(num)\n"
   ]
  },
  {
   "cell_type": "code",
   "execution_count": 3,
   "id": "03d05979-5980-4231-97da-39c45cf33db3",
   "metadata": {},
   "outputs": [],
   "source": [
    "#In the example, the even_numbers() function generates even numbers up to the given limit n. \n",
    "#Each time the yield statement is encountered, the current value of i is returned, and the function's state is saved. \n",
    "#The next() function is used to retrieve the values from the generator one at a time.\n",
    "\n",
    "#When the generator is used in a for loop, the loop automatically calls next() on the generator object until it is exhausted, \n",
    "#allowing us to iterate over the sequence of values conveniently.\n",
    "\n",
    "#The use of generator functions can be memory-efficient, especially when dealing with large or infinite sequences, \n",
    "#as they generate values on-the-fly, only storing the necessary state information instead of creating and storing all values \n",
    "#upfront.\n"
   ]
  },
  {
   "cell_type": "code",
   "execution_count": 4,
   "id": "71ad7924-f640-4d01-86cc-47f12aef5f96",
   "metadata": {},
   "outputs": [],
   "source": [
    "#Q5. Create a generator function for prime numbers less than 1000. Use the next() method to print the first 20 prime numbers.\n"
   ]
  },
  {
   "cell_type": "code",
   "execution_count": 7,
   "id": "28c5f985-8e06-4ea1-813b-dd7efbcab35e",
   "metadata": {},
   "outputs": [
    {
     "name": "stdout",
     "output_type": "stream",
     "text": [
      "2\n",
      "3\n",
      "5\n",
      "7\n",
      "11\n",
      "13\n",
      "17\n",
      "19\n",
      "23\n",
      "29\n",
      "31\n",
      "37\n",
      "41\n",
      "43\n",
      "47\n",
      "53\n",
      "59\n",
      "61\n",
      "67\n",
      "71\n"
     ]
    }
   ],
   "source": [
    "#Ans5. def generate_primes():\n",
    "def generate_primes():\n",
    "    primes = []\n",
    "    sieve = [True] * 1000\n",
    "    for num in range(2, 1000):\n",
    "        if sieve[num]:\n",
    "            primes.append(num)\n",
    "            for multiple in range(num * num, 1000, num):\n",
    "                sieve[multiple] = False\n",
    "    yield from primes\n",
    "\n",
    "prime_generator = generate_primes()\n",
    "\n",
    "for _ in range(20):\n",
    "    print(next(prime_generator))\n",
    "\n"
   ]
  },
  {
   "cell_type": "code",
   "execution_count": 8,
   "id": "be5d3181-2ce6-4ed4-b364-198c4d6eedd1",
   "metadata": {},
   "outputs": [],
   "source": [
    "#Q6. Write a python program to print the first 10 Fibonacci numbers using a while loop."
   ]
  },
  {
   "cell_type": "code",
   "execution_count": 9,
   "id": "da719d52-c5c6-42eb-bb9b-2c3cfebfdc97",
   "metadata": {},
   "outputs": [
    {
     "name": "stdout",
     "output_type": "stream",
     "text": [
      "0\n",
      "1\n",
      "1\n",
      "2\n",
      "3\n",
      "5\n",
      "8\n",
      "13\n",
      "21\n",
      "34\n"
     ]
    }
   ],
   "source": [
    "#Ans6.\n",
    "# Function to print the first 10 Fibonacci numbers using a while loop\n",
    "def print_fibonacci():\n",
    "    # Initialize variables\n",
    "    count = 0\n",
    "    a, b = 0, 1\n",
    "\n",
    "    # Loop to print Fibonacci numbers\n",
    "    while count < 10:\n",
    "        print(a)\n",
    "\n",
    "        # Update Fibonacci sequence\n",
    "        a, b = b, a + b\n",
    "        count += 1\n",
    "\n",
    "# Call the function to print the Fibonacci numbers\n",
    "print_fibonacci()\n"
   ]
  },
  {
   "cell_type": "code",
   "execution_count": 10,
   "id": "6d6fe3b1-004a-4ffd-a285-c6238bf36440",
   "metadata": {},
   "outputs": [],
   "source": [
    "#Q7. Write a List Comprehension to iterate through the given string: ‘pwskills’.\n",
    "#Expected output: ['p', 'w', 's', 'k', 'i', 'l', 'l', 's']"
   ]
  },
  {
   "cell_type": "code",
   "execution_count": 1,
   "id": "a5e1f8f6-74d4-4b41-b111-da5e03a0e091",
   "metadata": {},
   "outputs": [
    {
     "name": "stdout",
     "output_type": "stream",
     "text": [
      "['p', 'w', 's', 'k', 'i', 'l', 'l', 's']\n"
     ]
    }
   ],
   "source": [
    "#Ans7.\n",
    "# Given string\n",
    "string = 'pwskills'\n",
    "\n",
    "# List comprehension to iterate through the string and filter the desired elements\n",
    "result = [char for char in string if char in 'pwskills']\n",
    "\n",
    "# Print the result\n",
    "print(result)\n"
   ]
  },
  {
   "cell_type": "code",
   "execution_count": 2,
   "id": "55ea4d24-9edc-40f6-8641-fe2e20f58650",
   "metadata": {},
   "outputs": [],
   "source": [
    "#Q8.Write a python program to check whether a given number is Palindrome or not using a while loop."
   ]
  },
  {
   "cell_type": "code",
   "execution_count": 5,
   "id": "9405741b-aa1b-41fa-9d2c-981eb54bd6a4",
   "metadata": {},
   "outputs": [
    {
     "name": "stdin",
     "output_type": "stream",
     "text": [
      "Enter a number:  45\n"
     ]
    },
    {
     "name": "stdout",
     "output_type": "stream",
     "text": [
      "45 is not a palindrome.\n"
     ]
    }
   ],
   "source": [
    "#Ans8. \n",
    "def is_palindrome(number):\n",
    "    original_number = number\n",
    "    reverse_number = 0\n",
    "\n",
    "    # Reverse the number\n",
    "    while number > 0:\n",
    "        remainder = number % 10\n",
    "        reverse_number = reverse_number * 10 + remainder\n",
    "        number //= 10\n",
    "\n",
    "    # Check if the reversed number is equal to the original number\n",
    "    if original_number == reverse_number:\n",
    "        return True\n",
    "    else:\n",
    "        return False\n",
    "\n",
    "# Example usage\n",
    "number = int(input(\"Enter a number: \"))\n",
    "if is_palindrome(number):\n",
    "    print(number, \"is a palindrome.\")\n",
    "else:\n",
    "    print(number, \"is not a palindrome.\")\n"
   ]
  },
  {
   "cell_type": "code",
   "execution_count": 6,
   "id": "e753ff35-e66c-4780-95ba-04dd5e215783",
   "metadata": {},
   "outputs": [],
   "source": [
    "#Q9. Write a code to print odd numbers from 1 to 100 using list comprehension.\n"
   ]
  },
  {
   "cell_type": "code",
   "execution_count": 7,
   "id": "1586256c-fbc7-42a3-bff8-d27e28cf0bab",
   "metadata": {},
   "outputs": [
    {
     "name": "stdout",
     "output_type": "stream",
     "text": [
      "[1, 3, 5, 7, 9, 11, 13, 15, 17, 19, 21, 23, 25, 27, 29, 31, 33, 35, 37, 39, 41, 43, 45, 47, 49, 51, 53, 55, 57, 59, 61, 63, 65, 67, 69, 71, 73, 75, 77, 79, 81, 83, 85, 87, 89, 91, 93, 95, 97, 99]\n"
     ]
    }
   ],
   "source": [
    "#Ans# List comprehension to print odd numbers from 1 to 100\n",
    "odd_numbers = [num for num in range(1, 101) if num % 2 != 0]\n",
    "\n",
    "# Print the odd numbers\n",
    "print(odd_numbers)\n"
   ]
  },
  {
   "cell_type": "code",
   "execution_count": null,
   "id": "ec3c2764-6b40-42cc-a79e-3bb72179f38f",
   "metadata": {},
   "outputs": [],
   "source": []
  }
 ],
 "metadata": {
  "kernelspec": {
   "display_name": "Python 3 (ipykernel)",
   "language": "python",
   "name": "python3"
  },
  "language_info": {
   "codemirror_mode": {
    "name": "ipython",
    "version": 3
   },
   "file_extension": ".py",
   "mimetype": "text/x-python",
   "name": "python",
   "nbconvert_exporter": "python",
   "pygments_lexer": "ipython3",
   "version": "3.10.8"
  }
 },
 "nbformat": 4,
 "nbformat_minor": 5
}
