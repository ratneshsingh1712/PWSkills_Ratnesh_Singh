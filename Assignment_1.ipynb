{
 "cells": [
  {
   "cell_type": "code",
   "execution_count": 1,
   "id": "2cca8296-926a-479c-bf1d-51e9f562b71d",
   "metadata": {},
   "outputs": [
    {
     "name": "stdout",
     "output_type": "stream",
     "text": [
      "2\n",
      "4\n",
      "6\n",
      "8\n",
      "10\n",
      "12\n",
      "14\n",
      "16\n",
      "18\n",
      "20\n"
     ]
    }
   ],
   "source": [
    "#Q1.  Explain with an example each when to use a for loop and a while loop.\n",
    "\n",
    "#A for loop is typically used when we know the number of iterations we need to execute beforehand. On the other hand, a while loop is usually used when we do not know the exact number of iterations needed or when we need to keep executing a set of instructions until a specific condition is met. Here are some examples:\n",
    "\n",
    "#For Loop Example:\n",
    "#Suppose we want to print out the first 10 even numbers. Since we know exactly how many iterations we need, we can use a for loop:\n",
    "\n",
    "\n",
    "for i in range(2, 21, 2):\n",
    "    print(i)\n",
    "\n",
    "\n",
    "\n"
   ]
  },
  {
   "cell_type": "code",
   "execution_count": null,
   "id": "b8ae9037-797b-45e7-92bb-b2d631e9a2c2",
   "metadata": {},
   "outputs": [],
   "source": [
    "#While Loop Example:\n",
    "#Suppose we want to keep prompting the user to enter a positive number until they actually enter one. \n",
    "#Since we don't know exactly how many times we'll need to ask the user before they give us a positive number,\n",
    "#we can use a while loop:\n",
    "\n",
    "num = -1\n",
    "while num < 0:\n",
    "    num = int(input(\"Please enter a positive number: \"))\n"
   ]
  },
  {
   "cell_type": "code",
   "execution_count": null,
   "id": "fb76296c-5001-45e5-90c1-a3aaadef9b30",
   "metadata": {},
   "outputs": [],
   "source": [
    "#Q2.  Write a python program to print the sum and product of the first 10 natural numbers using for \n",
    "#and while loop."
   ]
  },
  {
   "cell_type": "code",
   "execution_count": null,
   "id": "407deb67-1a54-4885-9948-f643cd2b693c",
   "metadata": {},
   "outputs": [],
   "source": [
    "# Sum and Product of first 10 natural numbers using for loop\n",
    "\n",
    "# Calculating the sum\n",
    "sum = 0\n",
    "for i in range(1, 11):\n",
    "    sum += i\n",
    "\n",
    "# Calculating the product\n",
    "product = 1\n",
    "for i in range(1, 11):\n",
    "    product *= i\n",
    "\n",
    "# Printing the results\n",
    "print(\"Using for loop:\")\n",
    "print(\"Sum of first 10 natural numbers:\", sum)\n",
    "print(\"Product of first 10 natural numbers:\", product)\n"
   ]
  },
  {
   "cell_type": "code",
   "execution_count": null,
   "id": "6b38c9e9-70f3-4ab9-9a3d-c172f0f77888",
   "metadata": {},
   "outputs": [],
   "source": [
    "# Sum and Product of first 10 natural numbers using while loop\n",
    "\n",
    "# Calculating the sum\n",
    "sum = 0\n",
    "i = 1\n",
    "while i <= 10:\n",
    "    sum += i\n",
    "    i += 1\n",
    "\n",
    "# Calculating the product\n",
    "product = 1\n",
    "i = 1\n",
    "while i <= 10:\n",
    "    product *= i\n",
    "    i += 1\n",
    "\n",
    "# Printing the results\n",
    "print(\"\\nUsing while loop:\")\n",
    "print(\"Sum of first 10 natural numbers:\", sum)\n",
    "print(\"Product of first 10 natural numbers:\", product)\n"
   ]
  },
  {
   "cell_type": "code",
   "execution_count": 1,
   "id": "5a3c9cd2-01fe-4989-902b-40f4e106612b",
   "metadata": {},
   "outputs": [
    {
     "name": "stdin",
     "output_type": "stream",
     "text": [
      "Enter your electricity usage in kWh:  310\n"
     ]
    },
    {
     "name": "stdout",
     "output_type": "stream",
     "text": [
      "Your electricity bill is Rs. 2250.00\n"
     ]
    }
   ],
   "source": [
    "#Q3. Create a python program to compute the electricity bill for a household.\n",
    "\n",
    "# Electricity bill calculator with tiered pricing\n",
    "\n",
    "# Get the user input for usage in kWh\n",
    "usage = float(input(\"Enter your electricity usage in kWh: \"))\n",
    "\n",
    "# Calculate the bill amount based on the tiered pricing structure\n",
    "if usage <= 100:\n",
    "    rate = 4.5\n",
    "    bill_amount = usage * rate\n",
    "elif usage <= 200:\n",
    "    rate = 6\n",
    "    bill_amount = 100 * 4.5 + (usage - 100) * rate\n",
    "elif usage <= 300:\n",
    "    rate = 10\n",
    "    bill_amount = 100 * 4.5 + 100 * 6 + (usage - 200) * rate\n",
    "else:\n",
    "    rate = 20\n",
    "    bill_amount = 100 * 4.5 + 100 * 6 + 100 * 10 + (usage - 300) * rate\n",
    "\n",
    "# Print the bill amount\n",
    "print(f\"Your electricity bill is Rs. {bill_amount:.2f}\")\n"
   ]
  },
  {
   "cell_type": "code",
   "execution_count": 2,
   "id": "a86ea2f9-601d-4127-9814-c8b57e7bf5f8",
   "metadata": {},
   "outputs": [
    {
     "name": "stdout",
     "output_type": "stream",
     "text": [
      "[2, 4, 5, 6, 8, 10, 12, 14, 15, 16, 18, 20, 22, 24, 25, 26, 28, 30, 32, 34, 35, 36, 38, 40, 42, 44, 45, 46, 48, 50, 52, 54, 55, 56, 58, 60, 62, 64, 65, 66, 68, 70, 72, 74, 75, 76, 78, 80, 82, 84, 85, 86, 88, 90, 92, 94, 95, 96, 98, 100]\n"
     ]
    }
   ],
   "source": [
    "#Q4.Create a list of numbers from 1 to 100. Use for loop and while loop to calculate the cube of each \n",
    "#number and if the cube of that number is divisible by 4 or 5 then append that number in a list and print \n",
    "#that list.\n",
    "\n",
    "#Using for loop\n",
    "\n",
    "# Create an empty list to store the cubes of numbers divisible by 4 or 5\n",
    "cubes = []\n",
    "\n",
    "# Use for loop to iterate through numbers from 1 to 100\n",
    "for i in range(1, 101):\n",
    "    # Calculate the cube of the number\n",
    "    cube = i ** 3\n",
    "    \n",
    "    # Check if the cube is divisible by 4 or 5\n",
    "    if cube % 4 == 0 or cube % 5 == 0:\n",
    "        # If it is divisible, append the number to the list\n",
    "        cubes.append(i)\n",
    "        \n",
    "# Print the list of numbers whose cubes are divisible by 4 or 5\n",
    "print(cubes)\n"
   ]
  },
  {
   "cell_type": "code",
   "execution_count": 3,
   "id": "5e4fba5e-3872-454f-8ac0-942daf59eca3",
   "metadata": {},
   "outputs": [
    {
     "name": "stdout",
     "output_type": "stream",
     "text": [
      "[2, 4, 5, 6, 8, 10, 12, 14, 15, 16, 18, 20, 22, 24, 25, 26, 28, 30, 32, 34, 35, 36, 38, 40, 42, 44, 45, 46, 48, 50, 52, 54, 55, 56, 58, 60, 62, 64, 65, 66, 68, 70, 72, 74, 75, 76, 78, 80, 82, 84, 85, 86, 88, 90, 92, 94, 95, 96, 98, 100]\n"
     ]
    }
   ],
   "source": [
    "#Using while loop\n",
    "\n",
    "# Create an empty list to store the cubes of numbers divisible by 4 or 5\n",
    "cubes = []\n",
    "\n",
    "# Start with i = 1\n",
    "i = 1\n",
    "\n",
    "# Use while loop to iterate through numbers from 1 to 100\n",
    "while i <= 100:\n",
    "    # Calculate the cube of the number\n",
    "    cube = i ** 3\n",
    "    \n",
    "    # Check if the cube is divisible by 4 or 5\n",
    "    if cube % 4 == 0 or cube % 5 == 0:\n",
    "        # If it is divisible, append the number to the list\n",
    "        cubes.append(i)\n",
    "    \n",
    "    # Increment i by 1\n",
    "    i += 1\n",
    "        \n",
    "# Print the list of numbers whose cubes are divisible by 4 or 5\n",
    "print(cubes)\n"
   ]
  },
  {
   "cell_type": "code",
   "execution_count": 4,
   "id": "6b390207-bcff-4e94-b62a-1a349fb9a9cc",
   "metadata": {},
   "outputs": [
    {
     "name": "stdout",
     "output_type": "stream",
     "text": [
      "a: 4\n",
      "e: 3\n",
      "i: 3\n",
      "o: 2\n",
      "u: 0\n"
     ]
    }
   ],
   "source": [
    "#Write a program to filter count vowels in the below-given string.\n",
    "\n",
    "#string = \"I want to become a data scientist\"\n",
    "\n",
    "string = \"I want to become a data scientist\"\n",
    "\n",
    "vowels = \"aeiou\"\n",
    "\n",
    "# Initialize a dictionary to store the count of vowels\n",
    "vowel_count = {v: 0 for v in vowels}\n",
    "\n",
    "# Convert the string to lowercase\n",
    "string = string.lower()\n",
    "\n",
    "# Iterate over each character in the string\n",
    "for char in string:\n",
    "    # If the character is a vowel, update the count in the dictionary\n",
    "    if char in vowels:\n",
    "        vowel_count[char] += 1\n",
    "\n",
    "# Print the vowel count for each vowel\n",
    "for vowel, count in vowel_count.items():\n",
    "    print(f\"{vowel}: {count}\")\n"
   ]
  },
  {
   "cell_type": "code",
   "execution_count": null,
   "id": "89da6cfe-a044-43e1-af56-c84b9e9c4ebe",
   "metadata": {},
   "outputs": [],
   "source": []
  }
 ],
 "metadata": {
  "kernelspec": {
   "display_name": "Python 3 (ipykernel)",
   "language": "python",
   "name": "python3"
  },
  "language_info": {
   "codemirror_mode": {
    "name": "ipython",
    "version": 3
   },
   "file_extension": ".py",
   "mimetype": "text/x-python",
   "name": "python",
   "nbconvert_exporter": "python",
   "pygments_lexer": "ipython3",
   "version": "3.10.8"
  }
 },
 "nbformat": 4,
 "nbformat_minor": 5
}
